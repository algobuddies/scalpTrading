{
 "cells": [
  {
   "cell_type": "code",
   "execution_count": 88,
   "metadata": {
    "scrolled": true
   },
   "outputs": [
    {
     "data": {
      "text/html": [
       "<div>\n",
       "<style scoped>\n",
       "    .dataframe tbody tr th:only-of-type {\n",
       "        vertical-align: middle;\n",
       "    }\n",
       "\n",
       "    .dataframe tbody tr th {\n",
       "        vertical-align: top;\n",
       "    }\n",
       "\n",
       "    .dataframe thead th {\n",
       "        text-align: right;\n",
       "    }\n",
       "</style>\n",
       "<table border=\"1\" class=\"dataframe\">\n",
       "  <thead>\n",
       "    <tr style=\"text-align: right;\">\n",
       "      <th></th>\n",
       "      <th>date</th>\n",
       "      <th>open</th>\n",
       "      <th>high</th>\n",
       "      <th>low</th>\n",
       "      <th>close</th>\n",
       "      <th>volume</th>\n",
       "    </tr>\n",
       "  </thead>\n",
       "  <tbody>\n",
       "  </tbody>\n",
       "</table>\n",
       "</div>"
      ],
      "text/plain": [
       "Empty DataFrame\n",
       "Columns: [date, open, high, low, close, volume]\n",
       "Index: []"
      ]
     },
     "execution_count": 88,
     "metadata": {},
     "output_type": "execute_result"
    }
   ],
   "source": [
    "import numpy as np\n",
    "import pandas as pd\n",
    "import matplotlib.pyplot as plt\n",
    "import seaborn as sns\n",
    "import matplotlib\n",
    "\n",
    "%matplotlib inline\n",
    "sns.set(style=\"darkgrid\")\n",
    "matplotlib.rcParams['figure.figsize'] = (20.0, 10.0)\n",
    "\n",
    "\n",
    "def get_data(symbol):\n",
    "    df = pd.read_parquet(f\"/data/stocks/{symbol}_1min.parquet.gzip\")\n",
    "    return df\n",
    "\n",
    "main = get_data(\"ACC\")\n",
    "df = main.query('20190826 == date')\n",
    "# main.date.dt.year\n",
    "df\n",
    "\n",
    "# d = main.groupby('date')\n",
    "# main = main.drop('volume',1)\n",
    "# main.plot(x='date')"
   ]
  },
  {
   "cell_type": "code",
   "execution_count": 19,
   "metadata": {},
   "outputs": [
    {
     "data": {
      "text/html": [
       "<div>\n",
       "<style scoped>\n",
       "    .dataframe tbody tr th:only-of-type {\n",
       "        vertical-align: middle;\n",
       "    }\n",
       "\n",
       "    .dataframe tbody tr th {\n",
       "        vertical-align: top;\n",
       "    }\n",
       "\n",
       "    .dataframe thead th {\n",
       "        text-align: right;\n",
       "    }\n",
       "</style>\n",
       "<table border=\"1\" class=\"dataframe\">\n",
       "  <thead>\n",
       "    <tr style=\"text-align: right;\">\n",
       "      <th></th>\n",
       "      <th>high</th>\n",
       "      <th>open</th>\n",
       "      <th>datetime</th>\n",
       "      <th>volume</th>\n",
       "      <th>close</th>\n",
       "      <th>low</th>\n",
       "      <th>time</th>\n",
       "      <th>date</th>\n",
       "    </tr>\n",
       "  </thead>\n",
       "  <tbody>\n",
       "    <tr>\n",
       "      <td>8232772</td>\n",
       "      <td>1254.80</td>\n",
       "      <td>1252.70</td>\n",
       "      <td>2016-06-08 03:45:00+00:00</td>\n",
       "      <td>10922.0</td>\n",
       "      <td>1253.00</td>\n",
       "      <td>1252.60</td>\n",
       "      <td>1.465358e+09</td>\n",
       "      <td>2016-08-06</td>\n",
       "    </tr>\n",
       "    <tr>\n",
       "      <td>8232773</td>\n",
       "      <td>1253.90</td>\n",
       "      <td>1252.75</td>\n",
       "      <td>2016-06-08 03:46:00+00:00</td>\n",
       "      <td>16747.0</td>\n",
       "      <td>1253.90</td>\n",
       "      <td>1252.55</td>\n",
       "      <td>1.465358e+09</td>\n",
       "      <td>2016-08-06</td>\n",
       "    </tr>\n",
       "    <tr>\n",
       "      <td>8232774</td>\n",
       "      <td>1254.35</td>\n",
       "      <td>1254.30</td>\n",
       "      <td>2016-06-08 03:47:00+00:00</td>\n",
       "      <td>8500.0</td>\n",
       "      <td>1254.30</td>\n",
       "      <td>1253.15</td>\n",
       "      <td>1.465358e+09</td>\n",
       "      <td>2016-08-06</td>\n",
       "    </tr>\n",
       "    <tr>\n",
       "      <td>8232775</td>\n",
       "      <td>1254.45</td>\n",
       "      <td>1254.30</td>\n",
       "      <td>2016-06-08 03:48:00+00:00</td>\n",
       "      <td>9674.0</td>\n",
       "      <td>1253.95</td>\n",
       "      <td>1253.55</td>\n",
       "      <td>1.465358e+09</td>\n",
       "      <td>2016-08-06</td>\n",
       "    </tr>\n",
       "    <tr>\n",
       "      <td>8232776</td>\n",
       "      <td>1253.90</td>\n",
       "      <td>1253.90</td>\n",
       "      <td>2016-06-08 03:49:00+00:00</td>\n",
       "      <td>16359.0</td>\n",
       "      <td>1252.90</td>\n",
       "      <td>1252.10</td>\n",
       "      <td>1.465358e+09</td>\n",
       "      <td>2016-08-06</td>\n",
       "    </tr>\n",
       "    <tr>\n",
       "      <td>...</td>\n",
       "      <td>...</td>\n",
       "      <td>...</td>\n",
       "      <td>...</td>\n",
       "      <td>...</td>\n",
       "      <td>...</td>\n",
       "      <td>...</td>\n",
       "      <td>...</td>\n",
       "      <td>...</td>\n",
       "    </tr>\n",
       "    <tr>\n",
       "      <td>8233142</td>\n",
       "      <td>1259.85</td>\n",
       "      <td>1259.80</td>\n",
       "      <td>2016-06-08 09:55:00+00:00</td>\n",
       "      <td>17332.0</td>\n",
       "      <td>1258.90</td>\n",
       "      <td>1258.90</td>\n",
       "      <td>1.465380e+09</td>\n",
       "      <td>2016-08-06</td>\n",
       "    </tr>\n",
       "    <tr>\n",
       "      <td>8233143</td>\n",
       "      <td>1259.00</td>\n",
       "      <td>1259.00</td>\n",
       "      <td>2016-06-08 09:56:00+00:00</td>\n",
       "      <td>19791.0</td>\n",
       "      <td>1257.35</td>\n",
       "      <td>1257.30</td>\n",
       "      <td>1.465380e+09</td>\n",
       "      <td>2016-08-06</td>\n",
       "    </tr>\n",
       "    <tr>\n",
       "      <td>8233144</td>\n",
       "      <td>1257.85</td>\n",
       "      <td>1257.65</td>\n",
       "      <td>2016-06-08 09:57:00+00:00</td>\n",
       "      <td>10697.0</td>\n",
       "      <td>1257.80</td>\n",
       "      <td>1257.35</td>\n",
       "      <td>1.465380e+09</td>\n",
       "      <td>2016-08-06</td>\n",
       "    </tr>\n",
       "    <tr>\n",
       "      <td>8233145</td>\n",
       "      <td>1258.00</td>\n",
       "      <td>1257.80</td>\n",
       "      <td>2016-06-08 09:58:00+00:00</td>\n",
       "      <td>34786.0</td>\n",
       "      <td>1254.75</td>\n",
       "      <td>1254.00</td>\n",
       "      <td>1.465380e+09</td>\n",
       "      <td>2016-08-06</td>\n",
       "    </tr>\n",
       "    <tr>\n",
       "      <td>8233146</td>\n",
       "      <td>1255.00</td>\n",
       "      <td>1255.00</td>\n",
       "      <td>2016-06-08 09:59:00+00:00</td>\n",
       "      <td>18155.0</td>\n",
       "      <td>1254.60</td>\n",
       "      <td>1254.05</td>\n",
       "      <td>1.465380e+09</td>\n",
       "      <td>2016-08-06</td>\n",
       "    </tr>\n",
       "  </tbody>\n",
       "</table>\n",
       "<p>375 rows × 8 columns</p>\n",
       "</div>"
      ],
      "text/plain": [
       "            high     open                  datetime   volume    close  \\\n",
       "8232772  1254.80  1252.70 2016-06-08 03:45:00+00:00  10922.0  1253.00   \n",
       "8232773  1253.90  1252.75 2016-06-08 03:46:00+00:00  16747.0  1253.90   \n",
       "8232774  1254.35  1254.30 2016-06-08 03:47:00+00:00   8500.0  1254.30   \n",
       "8232775  1254.45  1254.30 2016-06-08 03:48:00+00:00   9674.0  1253.95   \n",
       "8232776  1253.90  1253.90 2016-06-08 03:49:00+00:00  16359.0  1252.90   \n",
       "...          ...      ...                       ...      ...      ...   \n",
       "8233142  1259.85  1259.80 2016-06-08 09:55:00+00:00  17332.0  1258.90   \n",
       "8233143  1259.00  1259.00 2016-06-08 09:56:00+00:00  19791.0  1257.35   \n",
       "8233144  1257.85  1257.65 2016-06-08 09:57:00+00:00  10697.0  1257.80   \n",
       "8233145  1258.00  1257.80 2016-06-08 09:58:00+00:00  34786.0  1254.75   \n",
       "8233146  1255.00  1255.00 2016-06-08 09:59:00+00:00  18155.0  1254.60   \n",
       "\n",
       "             low          time        date  \n",
       "8232772  1252.60  1.465358e+09  2016-08-06  \n",
       "8232773  1252.55  1.465358e+09  2016-08-06  \n",
       "8232774  1253.15  1.465358e+09  2016-08-06  \n",
       "8232775  1253.55  1.465358e+09  2016-08-06  \n",
       "8232776  1252.10  1.465358e+09  2016-08-06  \n",
       "...          ...           ...         ...  \n",
       "8233142  1258.90  1.465380e+09  2016-08-06  \n",
       "8233143  1257.30  1.465380e+09  2016-08-06  \n",
       "8233144  1257.35  1.465380e+09  2016-08-06  \n",
       "8233145  1254.00  1.465380e+09  2016-08-06  \n",
       "8233146  1254.05  1.465380e+09  2016-08-06  \n",
       "\n",
       "[375 rows x 8 columns]"
      ]
     },
     "execution_count": 19,
     "metadata": {},
     "output_type": "execute_result"
    }
   ],
   "source": [
    "df = main.copy()\n",
    "df['date'] = pd.to_datetime(df['datetime'])\n",
    "df['date'] = df['date'].dt.strftime('%Y-%d-%m')\n",
    "dates = df.date.unique()\n",
    "df.head(15)\n",
    "\n",
    "# df1['date'] = pd.to_datetime(df1['datetime'])\n",
    "# df1['date'] = df1['date'].dt.strftime('%Y-%d-%m')\n",
    "# df1.set_index(df1['date'], inplace = True)\n",
    "# g = df1.groupby(df1['date'])\n",
    "\n",
    "\n",
    "# df.head()\n",
    "# df.datetime.dt.\n",
    "dates\n",
    "\n",
    "d = df[df['date'] == '2016-08-06']\n",
    "d"
   ]
  },
  {
   "cell_type": "code",
   "execution_count": 57,
   "metadata": {},
   "outputs": [
    {
     "name": "stdout",
     "output_type": "stream",
     "text": [
      "2016-06-08 09:55:00+00:00\n",
      "2016-06-08 11:00:00+00:00\n",
      "2016-06-08 10:25:00+00:00\n",
      "2016-06-08 12:00:00+00:00\n",
      "2016-06-08 15:00:00+00:00\n",
      "2016-06-08 15:30:00+00:00\n"
     ]
    },
    {
     "data": {
      "text/plain": [
       "'2016-06-08 15:30:00+00:00'"
      ]
     },
     "execution_count": 57,
     "metadata": {},
     "output_type": "execute_result"
    }
   ],
   "source": [
    "def convert_to_24(date):\n",
    "    l = list(date)\n",
    "    if (int(\"\".join(l[11:13])) in (1,2,3,4)):\n",
    "        nStr = str(int(l[12])+12)\n",
    "        l[11] = nStr[0]\n",
    "        l[12] = nStr[1]\n",
    "    return \"\".join(l)\n",
    "\n",
    "    \n",
    "convert_to_24(\"2016-06-08 09:55:00+00:00\")\n",
    "convert_to_24(\"2016-06-08 11:00:00+00:00\")\n",
    "convert_to_24(\"2016-06-08 10:25:00+00:00\")\n",
    "convert_to_24(\"2016-06-08 12:00:00+00:00\")\n",
    "convert_to_24(\"2016-06-08 03:00:00+00:00\")\n",
    "convert_to_24(\"2016-06-08 03:30:00+00:00\")"
   ]
  },
  {
   "cell_type": "code",
   "execution_count": 3,
   "metadata": {},
   "outputs": [
    {
     "data": {
      "text/plain": [
       "<seaborn.axisgrid.FacetGrid at 0x10e58fdd0>"
      ]
     },
     "execution_count": 3,
     "metadata": {},
     "output_type": "execute_result"
    },
    {
     "data": {
      "image/png": "[encoded data removed]",
      "text/plain": [
       "<Figure size 360x360 with 1 Axes>"
      ]
     },
     "metadata": {
      "needs_background": "light"
     },
     "output_type": "display_data"
    }
   ],
   "source": [
    "sns.lmplot(x='open', y='close', data=df)"
   ]
  },
  {
   "cell_type": "code",
   "execution_count": 25,
   "metadata": {},
   "outputs": [
    {
     "ename": "AttributeError",
     "evalue": "'str' object has no attribute 'strftime'",
     "output_type": "error",
     "traceback": [
      "\u001b[0;31m---------------------------------------------------------------------------\u001b[0m",
      "\u001b[0;31mAttributeError\u001b[0m                            Traceback (most recent call last)",
      "\u001b[0;32m<ipython-input-25-4932b4dc972e>\u001b[0m in \u001b[0;36m<module>\u001b[0;34m\u001b[0m\n\u001b[1;32m      5\u001b[0m \u001b[0mdatetime_obj\u001b[0m \u001b[0;34m=\u001b[0m \u001b[0mdatetime\u001b[0m\u001b[0;34m.\u001b[0m\u001b[0mstrptime\u001b[0m\u001b[0;34m(\u001b[0m\u001b[0mdate_str\u001b[0m\u001b[0;34m,\u001b[0m \u001b[0;34m\"%Y-%m-%d %H:%M:%S\"\u001b[0m\u001b[0;34m)\u001b[0m\u001b[0;34m\u001b[0m\u001b[0;34m\u001b[0m\u001b[0m\n\u001b[1;32m      6\u001b[0m \u001b[0mdatetime_obj_utc\u001b[0m \u001b[0;34m=\u001b[0m \u001b[0mdatetime_obj\u001b[0m\u001b[0;34m.\u001b[0m\u001b[0mreplace\u001b[0m\u001b[0;34m(\u001b[0m\u001b[0mtzinfo\u001b[0m\u001b[0;34m=\u001b[0m\u001b[0mtimezone\u001b[0m\u001b[0;34m(\u001b[0m\u001b[0;34m'US/Eastern'\u001b[0m\u001b[0;34m)\u001b[0m\u001b[0;34m)\u001b[0m\u001b[0;34m.\u001b[0m\u001b[0mstrftime\u001b[0m\u001b[0;34m(\u001b[0m\u001b[0;34m\"%Y-%m-%d %H:%M:%S\"\u001b[0m\u001b[0;34m)\u001b[0m\u001b[0;34m\u001b[0m\u001b[0;34m\u001b[0m\u001b[0m\n\u001b[0;32m----> 7\u001b[0;31m \u001b[0mprint\u001b[0m\u001b[0;34m(\u001b[0m\u001b[0mdatetime_obj_utc\u001b[0m\u001b[0;34m.\u001b[0m\u001b[0mstrftime\u001b[0m\u001b[0;34m(\u001b[0m\u001b[0;34m\"%Y-%m-%d %H:%M:%S\"\u001b[0m\u001b[0;34m)\u001b[0m\u001b[0;34m)\u001b[0m\u001b[0;34m\u001b[0m\u001b[0;34m\u001b[0m\u001b[0m\n\u001b[0m\u001b[1;32m      8\u001b[0m \u001b[0;34m\u001b[0m\u001b[0m\n\u001b[1;32m      9\u001b[0m \u001b[0mnow_asia\u001b[0m \u001b[0;34m=\u001b[0m \u001b[0mdatetime_obj_utc\u001b[0m\u001b[0;34m.\u001b[0m\u001b[0mastimezone\u001b[0m\u001b[0;34m(\u001b[0m\u001b[0mtimezone\u001b[0m\u001b[0;34m(\u001b[0m\u001b[0;34m'Asia/Kolkata'\u001b[0m\u001b[0;34m)\u001b[0m\u001b[0;34m)\u001b[0m\u001b[0;34m\u001b[0m\u001b[0;34m\u001b[0m\u001b[0m\n",
      "\u001b[0;31mAttributeError\u001b[0m: 'str' object has no attribute 'strftime'"
     ]
    }
   ],
   "source": [
    "from datetime import datetime\n",
    "from pytz import timezone\n",
    "\n",
    "date_str = \"2019-08-26 23:48:00\"\n",
    "datetime_obj = datetime.strptime(date_str, \"%Y-%m-%d %H:%M:%S\")\n",
    "datetime_obj_utc = datetime_obj.replace(tzinfo=timezone('US/Eastern'))\n",
    "print(datetime_obj_utc.strftime(\"%Y-%m-%d %H:%M:%S\"))\n",
    "\n",
    "now_asia = datetime_obj_utc.astimezone(timezone('Asia/Kolkata'))\n",
    "print(now_asia.strftime(format))"
   ]
  },
  {
   "cell_type": "code",
   "execution_count": 42,
   "metadata": {},
   "outputs": [
    {
     "name": "stdout",
     "output_type": "stream",
     "text": [
      "2019-08-27 09:18:00\n"
     ]
    }
   ],
   "source": [
    "from datetime import datetime\n",
    "from pytz import timezone\n",
    "\n",
    "\n",
    "newyork = timezone('America/New_York').localize(datetime.strptime(\"2019-08-26 23:48:00\", \"%Y-%m-%d %H:%M:%S\"))\n",
    "berlin = newyork.astimezone(timezone('Asia/Kolkata')).replace(tzinfo=None)\n",
    "print(berlin)\n"
   ]
  }
 ],
 "metadata": {
  "kernelspec": {
   "display_name": "Python 3",
   "language": "python",
   "name": "python3"
  },
  "language_info": {
   "codemirror_mode": {
    "name": "ipython",
    "version": 3
   },
   "file_extension": ".py",
   "mimetype": "text/x-python",
   "name": "python",
   "nbconvert_exporter": "python",
   "pygments_lexer": "ipython3",
   "version": "3.7.2"
  },
  "toc": {
   "base_numbering": 1,
   "nav_menu": {},
   "number_sections": false,
   "sideBar": false,
   "skip_h1_title": false,
   "title_cell": "Table of Contents",
   "title_sidebar": "Contents",
   "toc_cell": false,
   "toc_position": {},
   "toc_section_display": false,
   "toc_window_display": false
  }
 },
 "nbformat": 4,
 "nbformat_minor": 2
}
