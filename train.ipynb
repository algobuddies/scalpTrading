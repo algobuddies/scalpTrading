{
 "cells": [
  {
   "cell_type": "code",
   "execution_count": 8,
   "metadata": {},
   "outputs": [
    {
     "ename": "ModuleNotFoundError",
     "evalue": "No module named 'exchanges.simulated.gan_exchange'",
     "output_type": "error",
     "traceback": [
      "\u001b[0;31m---------------------------------------------------------------------------\u001b[0m",
      "\u001b[0;31mModuleNotFoundError\u001b[0m                       Traceback (most recent call last)",
      "\u001b[0;32m<ipython-input-8-4d03bfbb9ded>\u001b[0m in \u001b[0;36m<module>\u001b[0;34m\u001b[0m\n\u001b[1;32m     15\u001b[0m \u001b[0msys\u001b[0m\u001b[0;34m.\u001b[0m\u001b[0mpath\u001b[0m\u001b[0;34m.\u001b[0m\u001b[0mappend\u001b[0m\u001b[0;34m(\u001b[0m\u001b[0mos\u001b[0m\u001b[0;34m.\u001b[0m\u001b[0mpath\u001b[0m\u001b[0;34m.\u001b[0m\u001b[0mdirname\u001b[0m\u001b[0;34m(\u001b[0m\u001b[0mos\u001b[0m\u001b[0;34m.\u001b[0m\u001b[0mpath\u001b[0m\u001b[0;34m.\u001b[0m\u001b[0mabspath\u001b[0m\u001b[0;34m(\u001b[0m\u001b[0;34m''\u001b[0m\u001b[0;34m)\u001b[0m\u001b[0;34m)\u001b[0m\u001b[0;34m)\u001b[0m\u001b[0;34m\u001b[0m\u001b[0;34m\u001b[0m\u001b[0m\n\u001b[1;32m     16\u001b[0m \u001b[0;34m\u001b[0m\u001b[0m\n\u001b[0;32m---> 17\u001b[0;31m \u001b[0;32mfrom\u001b[0m \u001b[0menvironments\u001b[0m \u001b[0;32mimport\u001b[0m \u001b[0mTradingEnvironment\u001b[0m\u001b[0;34m\u001b[0m\u001b[0;34m\u001b[0m\u001b[0m\n\u001b[0m\u001b[1;32m     18\u001b[0m \u001b[0;32mfrom\u001b[0m \u001b[0mexchanges\u001b[0m\u001b[0;34m.\u001b[0m\u001b[0msimulated\u001b[0m \u001b[0;32mimport\u001b[0m \u001b[0mSimulatedExchange\u001b[0m\u001b[0;34m\u001b[0m\u001b[0;34m\u001b[0m\u001b[0m\n\u001b[1;32m     19\u001b[0m \u001b[0;32mfrom\u001b[0m \u001b[0mactions\u001b[0m \u001b[0;32mimport\u001b[0m \u001b[0mDiscreteActionStrategy\u001b[0m\u001b[0;34m\u001b[0m\u001b[0;34m\u001b[0m\u001b[0m\n",
      "\u001b[0;32m~/Projects/learning/udacity/capstone/scalpTrading/environments/__init__.py\u001b[0m in \u001b[0;36m<module>\u001b[0;34m\u001b[0m\n\u001b[0;32m----> 1\u001b[0;31m \u001b[0;32mfrom\u001b[0m \u001b[0;34m.\u001b[0m\u001b[0mtrading_environment\u001b[0m \u001b[0;32mimport\u001b[0m \u001b[0mTradingEnvironment\u001b[0m\u001b[0;34m\u001b[0m\u001b[0;34m\u001b[0m\u001b[0m\n\u001b[0m",
      "\u001b[0;32m~/Projects/learning/udacity/capstone/scalpTrading/environments/trading_environment.py\u001b[0m in \u001b[0;36m<module>\u001b[0;34m\u001b[0m\n\u001b[1;32m     12\u001b[0m \u001b[0;32mfrom\u001b[0m \u001b[0mfeatures\u001b[0m \u001b[0;32mimport\u001b[0m \u001b[0mFeaturePipeline\u001b[0m\u001b[0;34m\u001b[0m\u001b[0;34m\u001b[0m\u001b[0m\n\u001b[1;32m     13\u001b[0m \u001b[0;32mfrom\u001b[0m \u001b[0mrewards\u001b[0m \u001b[0;32mimport\u001b[0m \u001b[0mRewardStrategy\u001b[0m\u001b[0;34m\u001b[0m\u001b[0;34m\u001b[0m\u001b[0m\n\u001b[0;32m---> 14\u001b[0;31m \u001b[0;32mfrom\u001b[0m \u001b[0mexchanges\u001b[0m \u001b[0;32mimport\u001b[0m \u001b[0mInstrumentExchange\u001b[0m\u001b[0;34m\u001b[0m\u001b[0;34m\u001b[0m\u001b[0m\n\u001b[0m\u001b[1;32m     15\u001b[0m \u001b[0;32mfrom\u001b[0m \u001b[0mtrades\u001b[0m \u001b[0;32mimport\u001b[0m \u001b[0mTrade\u001b[0m\u001b[0;34m\u001b[0m\u001b[0;34m\u001b[0m\u001b[0m\n\u001b[1;32m     16\u001b[0m \u001b[0;34m\u001b[0m\u001b[0m\n",
      "\u001b[0;32m~/Projects/learning/udacity/capstone/scalpTrading/exchanges/__init__.py\u001b[0m in \u001b[0;36m<module>\u001b[0;34m\u001b[0m\n\u001b[1;32m      2\u001b[0m \u001b[0;34m\u001b[0m\u001b[0m\n\u001b[1;32m      3\u001b[0m \u001b[0;32mfrom\u001b[0m \u001b[0;34m.\u001b[0m \u001b[0;32mimport\u001b[0m \u001b[0mlive\u001b[0m\u001b[0;34m\u001b[0m\u001b[0;34m\u001b[0m\u001b[0m\n\u001b[0;32m----> 4\u001b[0;31m \u001b[0;32mfrom\u001b[0m \u001b[0;34m.\u001b[0m \u001b[0;32mimport\u001b[0m \u001b[0msimulated\u001b[0m\u001b[0;34m\u001b[0m\u001b[0;34m\u001b[0m\u001b[0m\n\u001b[0m",
      "\u001b[0;32m~/Projects/learning/udacity/capstone/scalpTrading/exchanges/simulated/__init__.py\u001b[0m in \u001b[0;36m<module>\u001b[0;34m\u001b[0m\n\u001b[1;32m      1\u001b[0m \u001b[0;32mfrom\u001b[0m \u001b[0;34m.\u001b[0m\u001b[0mfbm_exchange\u001b[0m \u001b[0;32mimport\u001b[0m \u001b[0mFBMExchange\u001b[0m\u001b[0;34m\u001b[0m\u001b[0;34m\u001b[0m\u001b[0m\n\u001b[0;32m----> 2\u001b[0;31m \u001b[0;32mfrom\u001b[0m \u001b[0;34m.\u001b[0m\u001b[0mgan_exchange\u001b[0m \u001b[0;32mimport\u001b[0m \u001b[0mGANExchange\u001b[0m\u001b[0;34m\u001b[0m\u001b[0;34m\u001b[0m\u001b[0m\n\u001b[0m\u001b[1;32m      3\u001b[0m \u001b[0;32mfrom\u001b[0m \u001b[0;34m.\u001b[0m\u001b[0msimulated_exchange\u001b[0m \u001b[0;32mimport\u001b[0m \u001b[0mSimulatedExchange\u001b[0m\u001b[0;34m\u001b[0m\u001b[0;34m\u001b[0m\u001b[0m\n",
      "\u001b[0;31mModuleNotFoundError\u001b[0m: No module named 'exchanges.simulated.gan_exchange'"
     ]
    }
   ],
   "source": [
    "%reload_ext autoreload\n",
    "\n",
    "# !pip install stochastic\n",
    "import os\n",
    "import sys\n",
    "import warnings\n",
    "\n",
    "def warn(*args, **kwargs):\n",
    "    pass\n",
    "\n",
    "warnings.warn = warn\n",
    "warnings.simplefilter(action='ignore', category=FutureWarning)\n",
    "\n",
    "\n",
    "sys.path.append(os.path.dirname(os.path.abspath('')))\n",
    "\n",
    "from environments import TradingEnvironment\n",
    "from exchanges.simulated import SimulatedExchange\n",
    "from actions import DiscreteActionStrategy\n",
    "from rewards import SimpleProfitStrategy\n",
    "import matplotlib.pyplot as plt\n",
    "\n",
    "def get_date(symbol):\n",
    "    df = pd.read_parquet(f\"/data/stocks/{symbol}_1min.parquet.gzip\")\n",
    "    df['date'] = pd.to_datetime(df['date']).astype(int)/ 10**9\n",
    "    return df\n",
    "\n"
   ]
  },
  {
   "cell_type": "code",
   "execution_count": null,
   "metadata": {},
   "outputs": [],
   "source": [
    "import pandas as pd\n",
    "df = get_date(\"ABB\")\n",
    "\n",
    "df.index += 1\n",
    "exchange = SimulatedExchange(data_frame=df)\n",
    "action_strategy = DiscreteActionStrategy()\n",
    "reward_strategy = SimpleProfitStrategy()\n",
    "\n",
    "env = TradingEnvironment(exchange=exchange,\n",
    "                         action_strategy=action_strategy,\n",
    "                         reward_strategy=reward_strategy)\n",
    "\n",
    "obs = env.reset()\n",
    "sell_price = 1e9\n",
    "stop_price = -1\n",
    "\n",
    "print('Initial portfolio: ', exchange.portfolio)\n",
    "results = []\n",
    "for i in range(1000):\n",
    "    action = 0 if obs['close'] < sell_price else 18\n",
    "    action = 19 if obs['close'] < stop_price else action\n",
    "    \n",
    "    if i == 0 or portfolio['BTC'] == 0:\n",
    "        action = 16\n",
    "        sell_price = obs['close'] + (obs['close'] / 50)\n",
    "        stop_price = obs['close'] - (obs['close'] / 50)\n",
    "    \n",
    "    obs, reward, done, info = env.step(action)\n",
    "    executed_trade = info['executed_trade']\n",
    "    filled_trade = info['filled_trade']\n",
    "    portfolio = exchange.portfolio\n",
    "#     print(portfolio)\n",
    "    results.append({\n",
    "        'reward': reward,\n",
    "        'trade_type':executed_trade.trade_type,\n",
    "        'executed_trade.price': executed_trade.price,\n",
    "        'executed_trade.amount':executed_trade.amount,\n",
    "        'filled_trade.trade_type': filled_trade.trade_type,\n",
    "        'filled_trade.price': filled_trade.price,\n",
    "        'filled_trade.amount':filled_trade.amount,\n",
    "        'portfolio':portfolio\n",
    "        \n",
    "    })\n",
    "#     print('Obs: ', obs)\n",
    "#     print('Reward: ', reward)\n",
    "#     print('Portfolio: ', portfolio)"
   ]
  },
  {
   "cell_type": "code",
   "execution_count": 40,
   "metadata": {},
   "outputs": [
    {
     "data": {
      "image/png": "[encoded data removed]",
      "text/plain": [
       "<Figure size 432x288 with 1 Axes>"
      ]
     },
     "metadata": {
      "needs_background": "light"
     },
     "output_type": "display_data"
    }
   ],
   "source": [
    "result = pd.DataFrame(results)\n",
    "# result['executed_trade.amount'].plot()\n",
    "result['reward'].plot()\n",
    "plt.show()"
   ]
  }
 ],
 "metadata": {
  "kernelspec": {
   "display_name": "Python 3",
   "language": "python",
   "name": "python3"
  },
  "toc": {
   "base_numbering": 1,
   "nav_menu": {},
   "number_sections": false,
   "sideBar": false,
   "skip_h1_title": false,
   "title_cell": "Table of Contents",
   "title_sidebar": "Contents",
   "toc_cell": false,
   "toc_position": {},
   "toc_section_display": false,
   "toc_window_display": false
  }
 },
 "nbformat": 4,
 "nbformat_minor": 2
}
